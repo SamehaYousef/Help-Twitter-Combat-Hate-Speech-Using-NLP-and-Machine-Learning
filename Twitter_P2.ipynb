{
 "cells": [
  {
   "cell_type": "markdown",
   "id": "enhanced-delivery",
   "metadata": {},
   "source": [
    "## Sameha Yousef"
   ]
  },
  {
   "cell_type": "code",
   "execution_count": 1,
   "id": "recreational-chapel",
   "metadata": {},
   "outputs": [],
   "source": [
    "import nltk\n",
    "import pandas as pd\n",
    "import numpy as np"
   ]
  },
  {
   "cell_type": "code",
   "execution_count": 2,
   "id": "approved-cologne",
   "metadata": {},
   "outputs": [
    {
     "name": "stdout",
     "output_type": "stream",
     "text": [
      "NLP.1.ipynb\r\n",
      "NLP.2.ipynb\r\n",
      "\u001b[34mNLP_Code\u001b[m\u001b[m/\r\n",
      "TwitterHate.csv\r\n",
      "Untitled.ipynb\r\n",
      "sda___dsai___natural_language_processing_-28nlp-29___live_class-20210901_0759-1_1630503031.arf\r\n",
      "text.txt\r\n"
     ]
    }
   ],
   "source": [
    "ls"
   ]
  },
  {
   "cell_type": "code",
   "execution_count": 3,
   "id": "violent-province",
   "metadata": {},
   "outputs": [
    {
     "data": {
      "text/html": [
       "<div>\n",
       "<style scoped>\n",
       "    .dataframe tbody tr th:only-of-type {\n",
       "        vertical-align: middle;\n",
       "    }\n",
       "\n",
       "    .dataframe tbody tr th {\n",
       "        vertical-align: top;\n",
       "    }\n",
       "\n",
       "    .dataframe thead th {\n",
       "        text-align: right;\n",
       "    }\n",
       "</style>\n",
       "<table border=\"1\" class=\"dataframe\">\n",
       "  <thead>\n",
       "    <tr style=\"text-align: right;\">\n",
       "      <th></th>\n",
       "      <th>id</th>\n",
       "      <th>label</th>\n",
       "      <th>tweet</th>\n",
       "    </tr>\n",
       "  </thead>\n",
       "  <tbody>\n",
       "    <tr>\n",
       "      <th>0</th>\n",
       "      <td>1</td>\n",
       "      <td>0</td>\n",
       "      <td>@user when a father is dysfunctional and is s...</td>\n",
       "    </tr>\n",
       "    <tr>\n",
       "      <th>1</th>\n",
       "      <td>2</td>\n",
       "      <td>0</td>\n",
       "      <td>@user @user thanks for #lyft credit i can't us...</td>\n",
       "    </tr>\n",
       "    <tr>\n",
       "      <th>2</th>\n",
       "      <td>3</td>\n",
       "      <td>0</td>\n",
       "      <td>bihday your majesty</td>\n",
       "    </tr>\n",
       "    <tr>\n",
       "      <th>3</th>\n",
       "      <td>4</td>\n",
       "      <td>0</td>\n",
       "      <td>#model   i love u take with u all the time in ...</td>\n",
       "    </tr>\n",
       "    <tr>\n",
       "      <th>4</th>\n",
       "      <td>5</td>\n",
       "      <td>0</td>\n",
       "      <td>factsguide: society now    #motivation</td>\n",
       "    </tr>\n",
       "  </tbody>\n",
       "</table>\n",
       "</div>"
      ],
      "text/plain": [
       "   id  label                                              tweet\n",
       "0   1      0   @user when a father is dysfunctional and is s...\n",
       "1   2      0  @user @user thanks for #lyft credit i can't us...\n",
       "2   3      0                                bihday your majesty\n",
       "3   4      0  #model   i love u take with u all the time in ...\n",
       "4   5      0             factsguide: society now    #motivation"
      ]
     },
     "execution_count": 3,
     "metadata": {},
     "output_type": "execute_result"
    }
   ],
   "source": [
    "df = pd.read_csv(\"TwitterHate.csv\")\n",
    "df.head()"
   ]
  },
  {
   "cell_type": "code",
   "execution_count": 5,
   "id": "ordered-dublin",
   "metadata": {},
   "outputs": [
    {
     "data": {
      "text/plain": [
       "0    29720\n",
       "1     2242\n",
       "Name: label, dtype: int64"
      ]
     },
     "execution_count": 5,
     "metadata": {},
     "output_type": "execute_result"
    }
   ],
   "source": [
    "df.label.value_counts()"
   ]
  },
  {
   "cell_type": "code",
   "execution_count": 28,
   "id": "handy-barrel",
   "metadata": {},
   "outputs": [
    {
     "data": {
      "text/plain": [
       "0    0.929854\n",
       "1    0.070146\n",
       "Name: label, dtype: float64"
      ]
     },
     "execution_count": 28,
     "metadata": {},
     "output_type": "execute_result"
    }
   ],
   "source": [
    "df.label.value_counts(normalize = True)"
   ]
  },
  {
   "cell_type": "code",
   "execution_count": 8,
   "id": "federal-consideration",
   "metadata": {},
   "outputs": [
    {
     "name": "stdout",
     "output_type": "stream",
     "text": [
      "[' @user when a father is dysfunctional and is so selfish he drags his kids into his dysfunction.   #run', \"@user @user thanks for #lyft credit i can't use cause they don't offer wheelchair vans in pdx.    #disapointed #getthanked\", '  bihday your majesty', '#model   i love u take with u all the time in urð\\x9f\\x93±!!! ð\\x9f\\x98\\x99ð\\x9f\\x98\\x8eð\\x9f\\x91\\x84ð\\x9f\\x91\\x85ð\\x9f\\x92¦ð\\x9f\\x92¦ð\\x9f\\x92¦  ', ' factsguide: society now    #motivation']\n"
     ]
    }
   ],
   "source": [
    "tweets = list(df.tweet)\n",
    "print(tweets[:5])"
   ]
  },
  {
   "cell_type": "code",
   "execution_count": 11,
   "id": "daily-student",
   "metadata": {},
   "outputs": [
    {
     "data": {
      "text/plain": [
       "\"@user @user thanks for #lyft credit i can't use cause they don't offer wheelchair vans in pdx.    #disapointed #getthanked\""
      ]
     },
     "execution_count": 11,
     "metadata": {},
     "output_type": "execute_result"
    }
   ],
   "source": [
    "tweets[1]"
   ]
  },
  {
   "cell_type": "markdown",
   "id": "organized-classroom",
   "metadata": {},
   "source": [
    "### Remove contractions"
   ]
  },
  {
   "cell_type": "code",
   "execution_count": 12,
   "id": "identified-surfing",
   "metadata": {},
   "outputs": [
    {
     "name": "stdout",
     "output_type": "stream",
     "text": [
      "Original text: @user @user thanks for #lyft credit i can't use cause they don't offer wheelchair vans in pdx.    #disapointed #getthanked\n",
      "Expanded_text: @user @user thanks for #lyft credit i cannot use because they do not offer wheelchair vans in pdx. #disapointed #getthanked\n"
     ]
    }
   ],
   "source": [
    "import contractions\n",
    "\n",
    "text = tweets[1]\n",
    "expanded_words = []   \n",
    "\n",
    "for word in text.split():\n",
    "  # using contractions.fix to expand the shotened words\n",
    "  expanded_words.append(contractions.fix(word))   \n",
    "    \n",
    "expanded_text = ' '.join(expanded_words)\n",
    "print('Original text: ' + text)\n",
    "print('Expanded_text: ' + expanded_text)"
   ]
  },
  {
   "cell_type": "code",
   "execution_count": 18,
   "id": "nearby-boxing",
   "metadata": {},
   "outputs": [
    {
     "data": {
      "text/plain": [
       "31962"
      ]
     },
     "execution_count": 18,
     "metadata": {},
     "output_type": "execute_result"
    }
   ],
   "source": [
    "len(tweets)"
   ]
  },
  {
   "cell_type": "code",
   "execution_count": 21,
   "id": "popular-ethics",
   "metadata": {},
   "outputs": [
    {
     "data": {
      "text/plain": [
       "31962"
      ]
     },
     "execution_count": 21,
     "metadata": {},
     "output_type": "execute_result"
    }
   ],
   "source": [
    "no_cont_tweets = []   \n",
    "\n",
    "\n",
    "for word in tweets:\n",
    "  # using contractions.fix to expand the shotened words\n",
    "  no_cont_tweets.append(contractions.fix(word))   \n",
    "    \n",
    "    \n",
    "len(no_cont_tweets)"
   ]
  },
  {
   "cell_type": "markdown",
   "id": "relevant-triangle",
   "metadata": {},
   "source": [
    "### Lower case"
   ]
  },
  {
   "cell_type": "code",
   "execution_count": 29,
   "id": "theoretical-physiology",
   "metadata": {},
   "outputs": [
    {
     "name": "stdout",
     "output_type": "stream",
     "text": [
      " @user when a father is dysfunctional and is so selfish he drags his kids into his dysfunction.   #run\n",
      "\n",
      "-----------\n",
      "@user @user thanks for #lyft credit i cannot use because they do not offer wheelchair vans in pdx.    #disapointed #getthanked\n",
      "\n",
      "-----------\n",
      "  bihday your majesty\n",
      "\n",
      "-----------\n",
      "#model   i love you take with you all the time in urð±!!! ðððð",
      "ð¦ð¦ð¦  \n",
      "\n",
      "-----------\n",
      " factsguide: society now    #motivation\n",
      "\n",
      "-----------\n"
     ]
    }
   ],
   "source": [
    "new_tweets = [x.lower() for x in no_cont_tweets]\n",
    "for t in new_tweets[:5]:\n",
    "    print(t)\n",
    "    print(\"\\n-----------\")"
   ]
  },
  {
   "cell_type": "markdown",
   "id": "fatty-hardware",
   "metadata": {},
   "source": [
    "### Removing @Users & URLs"
   ]
  },
  {
   "cell_type": "code",
   "execution_count": 31,
   "id": "ignored-renewal",
   "metadata": {},
   "outputs": [],
   "source": [
    "import re"
   ]
  },
  {
   "cell_type": "code",
   "execution_count": 32,
   "id": "placed-merchant",
   "metadata": {},
   "outputs": [
    {
     "data": {
      "text/plain": [
       "' has an amazing account'"
      ]
     },
     "execution_count": 32,
     "metadata": {},
     "output_type": "execute_result"
    }
   ],
   "source": [
    "re.sub(\"@\\w+\",\"\", \"@Sameha has an amazing account\")"
   ]
  },
  {
   "cell_type": "code",
   "execution_count": 33,
   "id": "conventional-ribbon",
   "metadata": {},
   "outputs": [
    {
     "name": "stdout",
     "output_type": "stream",
     "text": [
      "  when a father is dysfunctional and is so selfish he drags his kids into his dysfunction.   #run\n",
      "\n",
      "-----------\n",
      "  thanks for #lyft credit i cannot use because they do not offer wheelchair vans in pdx.    #disapointed #getthanked\n",
      "\n",
      "-----------\n",
      "  bihday your majesty\n",
      "\n",
      "-----------\n",
      "#model   i love you take with you all the time in urð±!!! ðððð",
      "ð¦ð¦ð¦  \n",
      "\n",
      "-----------\n",
      " factsguide: society now    #motivation\n",
      "\n",
      "-----------\n"
     ]
    }
   ],
   "source": [
    "new_tweets = [re.sub(\"@\\w+\",\"\", x) for x in new_tweets]\n",
    "\n",
    "for t in new_tweets[:5]:\n",
    "    print(t)\n",
    "    print(\"\\n-----------\")"
   ]
  },
  {
   "cell_type": "code",
   "execution_count": 39,
   "id": "creative-scale",
   "metadata": {},
   "outputs": [
    {
     "data": {
      "text/plain": [
       "\" sameha's website\""
      ]
     },
     "execution_count": 39,
     "metadata": {},
     "output_type": "execute_result"
    }
   ],
   "source": [
    "re.sub(\"www.\\w+.\\w+\",\"\", \"www.url.com sameha's website\")"
   ]
  },
  {
   "cell_type": "code",
   "execution_count": 58,
   "id": "indie-louisville",
   "metadata": {},
   "outputs": [
    {
     "name": "stdout",
     "output_type": "stream",
     "text": [
      "Number of urls in tweets: 22\n"
     ]
    }
   ],
   "source": [
    "n = 0\n",
    "m = 0\n",
    "for x in new_tweets:\n",
    "    n += (np.sum(len(re.findall(\"www.\\w+.\\w+\", x))))\n",
    "    m += (np.sum(len(re.findall(\"\\w+://\\S+\",x))))\n",
    "    \n",
    "    \n",
    "print(\"Number of urls in tweets:\", n+m)"
   ]
  },
  {
   "cell_type": "code",
   "execution_count": 61,
   "id": "gentle-compact",
   "metadata": {},
   "outputs": [],
   "source": [
    "new_tweets = [re.sub(\"www.\\w+.\\w+\",\"\", x) for x in new_tweets]\n",
    "\n",
    "new_tweets = [re.sub(\"\\w+://\\S+\",\"\", x) for x in new_tweets]"
   ]
  },
  {
   "cell_type": "code",
   "execution_count": 68,
   "id": "anonymous-humanitarian",
   "metadata": {},
   "outputs": [
    {
     "name": "stdout",
     "output_type": "stream",
     "text": [
      "Number of urls in tweets after using sub : 0\n"
     ]
    }
   ],
   "source": [
    "#After replacing urls with \"\"\n",
    "n = 0\n",
    "m = 0\n",
    "for x in new_tweets:\n",
    "    n += (np.sum(len(re.findall(\"www.\\w+.\\w+\", x))))\n",
    "    m += (np.sum(len(re.findall(\"\\w+://\\S+\",x))))\n",
    "    \n",
    "    \n",
    "print(\"Number of urls in tweets after using sub :\", n+m)"
   ]
  },
  {
   "cell_type": "markdown",
   "id": "prepared-telephone",
   "metadata": {},
   "source": [
    "### Using TweetTokenizer to tokenize the tweets into individual terms."
   ]
  },
  {
   "cell_type": "code",
   "execution_count": 64,
   "id": "flush-preview",
   "metadata": {},
   "outputs": [],
   "source": [
    "from nltk import TweetTokenizer"
   ]
  },
  {
   "cell_type": "code",
   "execution_count": 65,
   "id": "bearing-comfort",
   "metadata": {},
   "outputs": [
    {
     "name": "stdout",
     "output_type": "stream",
     "text": [
      "['when', 'a', 'father', 'is', 'dysfunctional', 'and', 'is', 'so', 'selfish', 'he', 'drags', 'his', 'kids', 'into', 'his', 'dysfunction', '.', '#run']\n"
     ]
    }
   ],
   "source": [
    "tkn = TweetTokenizer()\n",
    "print(tkn.tokenize(new_tweets[0]))"
   ]
  },
  {
   "cell_type": "code",
   "execution_count": 67,
   "id": "polished-arlington",
   "metadata": {},
   "outputs": [
    {
     "name": "stdout",
     "output_type": "stream",
     "text": [
      "['when', 'a', 'father', 'is', 'dysfunctional', 'and', 'is', 'so', 'selfish', 'he', 'drags', 'his', 'kids', 'into', 'his', 'dysfunction', '.', '#run']\n",
      "['just', 'booked', 'our', 'trip', 'to', 'europeð', '\\x9f', '\\x91', '\\x8f', 'ð', '\\x9f', '\\x8f', '»', 'â', '\\x9c', '\\x88', 'ï', '¸', '\\x8f', '#travelwise', '#europe2016', '#london', '#paris']\n"
     ]
    }
   ],
   "source": [
    "tweet_token = [tkn.tokenize(sent) for sent in new_tweets]\n",
    "print(tweet_token[0])\n",
    "print(tweet_token[1000])"
   ]
  },
  {
   "cell_type": "markdown",
   "id": "continuous-intent",
   "metadata": {},
   "source": [
    "### Remove stop words"
   ]
  },
  {
   "cell_type": "code",
   "execution_count": 69,
   "id": "reserved-dodge",
   "metadata": {},
   "outputs": [],
   "source": [
    "from nltk.corpus import stopwords\n",
    "from string import punctuation"
   ]
  },
  {
   "cell_type": "code",
   "execution_count": 70,
   "id": "engaging-biology",
   "metadata": {},
   "outputs": [
    {
     "data": {
      "text/plain": [
       "'!\"#$%&\\'()*+,-./:;<=>?@[\\\\]^_`{|}~'"
      ]
     },
     "execution_count": 70,
     "metadata": {},
     "output_type": "execute_result"
    }
   ],
   "source": [
    "punctuation"
   ]
  },
  {
   "cell_type": "code",
   "execution_count": 72,
   "id": "happy-azerbaijan",
   "metadata": {},
   "outputs": [],
   "source": [
    "stop_nltk = stopwords.words(\"english\")\n",
    "stop_punct = list(punctuation)"
   ]
  },
  {
   "cell_type": "code",
   "execution_count": 73,
   "id": "motivated-headset",
   "metadata": {},
   "outputs": [
    {
     "data": {
      "text/plain": [
       "['i',\n",
       " 'me',\n",
       " 'my',\n",
       " 'myself',\n",
       " 'we',\n",
       " 'our',\n",
       " 'ours',\n",
       " 'ourselves',\n",
       " 'you',\n",
       " \"you're\",\n",
       " \"you've\",\n",
       " \"you'll\",\n",
       " \"you'd\",\n",
       " 'your',\n",
       " 'yours',\n",
       " 'yourself',\n",
       " 'yourselves',\n",
       " 'he',\n",
       " 'him',\n",
       " 'his',\n",
       " 'himself',\n",
       " 'she',\n",
       " \"she's\",\n",
       " 'her',\n",
       " 'hers',\n",
       " 'herself',\n",
       " 'it',\n",
       " \"it's\",\n",
       " 'its',\n",
       " 'itself',\n",
       " 'they',\n",
       " 'them',\n",
       " 'their',\n",
       " 'theirs',\n",
       " 'themselves',\n",
       " 'what',\n",
       " 'which',\n",
       " 'who',\n",
       " 'whom',\n",
       " 'this',\n",
       " 'that',\n",
       " \"that'll\",\n",
       " 'these',\n",
       " 'those',\n",
       " 'am',\n",
       " 'is',\n",
       " 'are',\n",
       " 'was',\n",
       " 'were',\n",
       " 'be',\n",
       " 'been',\n",
       " 'being',\n",
       " 'have',\n",
       " 'has',\n",
       " 'had',\n",
       " 'having',\n",
       " 'do',\n",
       " 'does',\n",
       " 'did',\n",
       " 'doing',\n",
       " 'a',\n",
       " 'an',\n",
       " 'the',\n",
       " 'and',\n",
       " 'but',\n",
       " 'if',\n",
       " 'or',\n",
       " 'because',\n",
       " 'as',\n",
       " 'until',\n",
       " 'while',\n",
       " 'of',\n",
       " 'at',\n",
       " 'by',\n",
       " 'for',\n",
       " 'with',\n",
       " 'about',\n",
       " 'against',\n",
       " 'between',\n",
       " 'into',\n",
       " 'through',\n",
       " 'during',\n",
       " 'before',\n",
       " 'after',\n",
       " 'above',\n",
       " 'below',\n",
       " 'to',\n",
       " 'from',\n",
       " 'up',\n",
       " 'down',\n",
       " 'in',\n",
       " 'out',\n",
       " 'on',\n",
       " 'off',\n",
       " 'over',\n",
       " 'under',\n",
       " 'again',\n",
       " 'further',\n",
       " 'then',\n",
       " 'once',\n",
       " 'here',\n",
       " 'there',\n",
       " 'when',\n",
       " 'where',\n",
       " 'why',\n",
       " 'how',\n",
       " 'all',\n",
       " 'any',\n",
       " 'both',\n",
       " 'each',\n",
       " 'few',\n",
       " 'more',\n",
       " 'most',\n",
       " 'other',\n",
       " 'some',\n",
       " 'such',\n",
       " 'no',\n",
       " 'nor',\n",
       " 'not',\n",
       " 'only',\n",
       " 'own',\n",
       " 'same',\n",
       " 'so',\n",
       " 'than',\n",
       " 'too',\n",
       " 'very',\n",
       " 's',\n",
       " 't',\n",
       " 'can',\n",
       " 'will',\n",
       " 'just',\n",
       " 'don',\n",
       " \"don't\",\n",
       " 'should',\n",
       " \"should've\",\n",
       " 'now',\n",
       " 'd',\n",
       " 'll',\n",
       " 'm',\n",
       " 'o',\n",
       " 're',\n",
       " 've',\n",
       " 'y',\n",
       " 'ain',\n",
       " 'aren',\n",
       " \"aren't\",\n",
       " 'couldn',\n",
       " \"couldn't\",\n",
       " 'didn',\n",
       " \"didn't\",\n",
       " 'doesn',\n",
       " \"doesn't\",\n",
       " 'hadn',\n",
       " \"hadn't\",\n",
       " 'hasn',\n",
       " \"hasn't\",\n",
       " 'haven',\n",
       " \"haven't\",\n",
       " 'isn',\n",
       " \"isn't\",\n",
       " 'ma',\n",
       " 'mightn',\n",
       " \"mightn't\",\n",
       " 'mustn',\n",
       " \"mustn't\",\n",
       " 'needn',\n",
       " \"needn't\",\n",
       " 'shan',\n",
       " \"shan't\",\n",
       " 'shouldn',\n",
       " \"shouldn't\",\n",
       " 'wasn',\n",
       " \"wasn't\",\n",
       " 'weren',\n",
       " \"weren't\",\n",
       " 'won',\n",
       " \"won't\",\n",
       " 'wouldn',\n",
       " \"wouldn't\"]"
      ]
     },
     "execution_count": 73,
     "metadata": {},
     "output_type": "execute_result"
    }
   ],
   "source": [
    "stop_nltk"
   ]
  },
  {
   "cell_type": "code",
   "execution_count": 74,
   "id": "circular-cylinder",
   "metadata": {},
   "outputs": [
    {
     "data": {
      "text/plain": [
       "['!',\n",
       " '\"',\n",
       " '#',\n",
       " '$',\n",
       " '%',\n",
       " '&',\n",
       " \"'\",\n",
       " '(',\n",
       " ')',\n",
       " '*',\n",
       " '+',\n",
       " ',',\n",
       " '-',\n",
       " '.',\n",
       " '/',\n",
       " ':',\n",
       " ';',\n",
       " '<',\n",
       " '=',\n",
       " '>',\n",
       " '?',\n",
       " '@',\n",
       " '[',\n",
       " '\\\\',\n",
       " ']',\n",
       " '^',\n",
       " '_',\n",
       " '`',\n",
       " '{',\n",
       " '|',\n",
       " '}',\n",
       " '~']"
      ]
     },
     "execution_count": 74,
     "metadata": {},
     "output_type": "execute_result"
    }
   ],
   "source": [
    "stop_punct"
   ]
  },
  {
   "cell_type": "code",
   "execution_count": 75,
   "id": "medical-madonna",
   "metadata": {},
   "outputs": [],
   "source": [
    "stop_punct.extend(['...','``',\"''\",\"..\"])"
   ]
  },
  {
   "cell_type": "code",
   "execution_count": 79,
   "id": "automotive-checkout",
   "metadata": {},
   "outputs": [],
   "source": [
    "stop_context = ['rt', 'amp','rts','retweet']"
   ]
  },
  {
   "cell_type": "code",
   "execution_count": 80,
   "id": "primary-peter",
   "metadata": {},
   "outputs": [],
   "source": [
    "final_stop = set(stop_punct) | set(stop_context) | set(stop_nltk)"
   ]
  },
  {
   "cell_type": "code",
   "execution_count": 87,
   "id": "dirty-egypt",
   "metadata": {},
   "outputs": [],
   "source": [
    "final_stop = list(final_stop)"
   ]
  },
  {
   "cell_type": "code",
   "execution_count": 88,
   "id": "handed-darkness",
   "metadata": {},
   "outputs": [],
   "source": [
    "def del_stop(sent):\n",
    "    return [re.sub(\"#\",\"\",term) for term in sent if ((term not in final_stop) & (len(term)>1))]"
   ]
  },
  {
   "cell_type": "code",
   "execution_count": 89,
   "id": "closing-scanner",
   "metadata": {},
   "outputs": [
    {
     "data": {
      "text/plain": [
       "['when',\n",
       " 'a',\n",
       " 'father',\n",
       " 'is',\n",
       " 'dysfunctional',\n",
       " 'and',\n",
       " 'is',\n",
       " 'so',\n",
       " 'selfish',\n",
       " 'he',\n",
       " 'drags',\n",
       " 'his',\n",
       " 'kids',\n",
       " 'into',\n",
       " 'his',\n",
       " 'dysfunction',\n",
       " '.',\n",
       " '#run']"
      ]
     },
     "execution_count": 89,
     "metadata": {},
     "output_type": "execute_result"
    }
   ],
   "source": [
    "tweet_token[0]"
   ]
  },
  {
   "cell_type": "code",
   "execution_count": 90,
   "id": "jewish-throat",
   "metadata": {},
   "outputs": [
    {
     "data": {
      "text/plain": [
       "['father', 'dysfunctional', 'selfish', 'drags', 'kids', 'dysfunction', 'run']"
      ]
     },
     "execution_count": 90,
     "metadata": {},
     "output_type": "execute_result"
    }
   ],
   "source": [
    "del_stop(tweet_token[0])"
   ]
  },
  {
   "cell_type": "code",
   "execution_count": 96,
   "id": "objective-detail",
   "metadata": {},
   "outputs": [
    {
     "data": {
      "text/plain": [
       "['father', 'dysfunctional', 'selfish', 'drags', 'kids', 'dysfunction', 'run']"
      ]
     },
     "execution_count": 96,
     "metadata": {},
     "output_type": "execute_result"
    }
   ],
   "source": [
    "clean_tweets = [del_stop(t) for t in tweet_token]\n",
    "clean_tweets[0]"
   ]
  },
  {
   "cell_type": "markdown",
   "id": "fundamental-disease",
   "metadata": {},
   "source": [
    "### Check out the top terms in the tweets"
   ]
  },
  {
   "cell_type": "code",
   "execution_count": 97,
   "id": "previous-atmosphere",
   "metadata": {},
   "outputs": [],
   "source": [
    "from collections import Counter"
   ]
  },
  {
   "cell_type": "code",
   "execution_count": 301,
   "id": "mobile-appendix",
   "metadata": {},
   "outputs": [],
   "source": [
    "term_list = []\n",
    "for tweet in clean_tweets:\n",
    "    term_list.extend(tweet)\n",
    "#print(term_list)"
   ]
  },
  {
   "cell_type": "code",
   "execution_count": 118,
   "id": "bulgarian-league",
   "metadata": {},
   "outputs": [],
   "source": [
    "words = []\n",
    "num = []\n",
    "con = Counter(term_list)\n",
    "common = con.most_common(10)\n",
    "for w,n in common:\n",
    "    words.append(w)\n",
    "    num.append(n)"
   ]
  },
  {
   "cell_type": "code",
   "execution_count": 101,
   "id": "christian-point",
   "metadata": {},
   "outputs": [],
   "source": [
    "import matplotlib.pyplot as plt\n",
    "%matplotlib inline"
   ]
  },
  {
   "cell_type": "code",
   "execution_count": 138,
   "id": "returning-gossip",
   "metadata": {},
   "outputs": [
    {
     "data": {
      "image/png": "[encoded data removed]",
      "text/plain": [
       "<Figure size 576x576 with 1 Axes>"
      ]
     },
     "metadata": {
      "needs_background": "light"
     },
     "output_type": "display_data"
    }
   ],
   "source": [
    "plt.rcParams[\"figure.figsize\"] = (8,8)\n",
    "plt.bar(words, num);\n",
    "plt.title(\"Most Common Words & their Frequencies\" );"
   ]
  },
  {
   "cell_type": "markdown",
   "id": "distributed-reunion",
   "metadata": {},
   "source": [
    "### Joining tweets"
   ]
  },
  {
   "cell_type": "code",
   "execution_count": 134,
   "id": "colored-diagnosis",
   "metadata": {},
   "outputs": [
    {
     "data": {
      "text/plain": [
       "['father', 'dysfunctional', 'selfish', 'drags', 'kids', 'dysfunction', 'run']"
      ]
     },
     "execution_count": 134,
     "metadata": {},
     "output_type": "execute_result"
    }
   ],
   "source": [
    "clean_tweets[0]"
   ]
  },
  {
   "cell_type": "code",
   "execution_count": 136,
   "id": "prescription-vienna",
   "metadata": {},
   "outputs": [
    {
     "data": {
      "text/plain": [
       "'father dysfunctional selfish drags kids dysfunction run'"
      ]
     },
     "execution_count": 136,
     "metadata": {},
     "output_type": "execute_result"
    }
   ],
   "source": [
    "tweets_clean = [\" \".join(t) for t in clean_tweets]\n",
    "tweets_clean[0]"
   ]
  },
  {
   "cell_type": "code",
   "execution_count": 139,
   "id": "terminal-defeat",
   "metadata": {},
   "outputs": [],
   "source": [
    "X = tweets_clean\n",
    "y = df.label.values"
   ]
  },
  {
   "cell_type": "code",
   "execution_count": 140,
   "id": "horizontal-highway",
   "metadata": {},
   "outputs": [
    {
     "data": {
      "text/plain": [
       "array([0, 0, 0, ..., 0, 1, 0])"
      ]
     },
     "execution_count": 140,
     "metadata": {},
     "output_type": "execute_result"
    }
   ],
   "source": [
    "y"
   ]
  },
  {
   "cell_type": "code",
   "execution_count": 141,
   "id": "weighted-leader",
   "metadata": {},
   "outputs": [],
   "source": [
    "from sklearn.model_selection import train_test_split\n",
    "\n",
    "X_train, X_test, y_train, y_test = train_test_split(X, y, test_size = 0.3, random_state = 3)"
   ]
  },
  {
   "cell_type": "code",
   "execution_count": 142,
   "id": "japanese-creation",
   "metadata": {},
   "outputs": [
    {
     "name": "stdout",
     "output_type": "stream",
     "text": [
      "22373 9589\n"
     ]
    }
   ],
   "source": [
    "print(len(X_train), len(X_test))"
   ]
  },
  {
   "cell_type": "markdown",
   "id": "anonymous-warehouse",
   "metadata": {},
   "source": [
    "### TF-IDF"
   ]
  },
  {
   "cell_type": "code",
   "execution_count": 143,
   "id": "warming-closer",
   "metadata": {},
   "outputs": [],
   "source": [
    "from sklearn.feature_extraction.text import TfidfVectorizer"
   ]
  },
  {
   "cell_type": "code",
   "execution_count": 144,
   "id": "dominican-thinking",
   "metadata": {},
   "outputs": [],
   "source": [
    "tf = TfidfVectorizer(max_features = 5000)"
   ]
  },
  {
   "cell_type": "code",
   "execution_count": 146,
   "id": "hollow-student",
   "metadata": {},
   "outputs": [],
   "source": [
    "x_train_tf = tf.fit_transform(X_train)\n",
    "x_test_tf = tf.transform(X_test)"
   ]
  },
  {
   "cell_type": "code",
   "execution_count": 149,
   "id": "described-romantic",
   "metadata": {},
   "outputs": [
    {
     "name": "stdout",
     "output_type": "stream",
     "text": [
      "(22373, 5000) (9589, 5000)\n"
     ]
    }
   ],
   "source": [
    "print(x_train_tf.shape, x_test_tf.shape)"
   ]
  },
  {
   "cell_type": "markdown",
   "id": "finished-atmosphere",
   "metadata": {},
   "source": [
    "### Ordinary Logistic Regression"
   ]
  },
  {
   "cell_type": "code",
   "execution_count": 159,
   "id": "corporate-france",
   "metadata": {},
   "outputs": [
    {
     "data": {
      "text/plain": [
       "LogisticRegression(random_state=0)"
      ]
     },
     "execution_count": 159,
     "metadata": {},
     "output_type": "execute_result"
    }
   ],
   "source": [
    "from sklearn.linear_model import LogisticRegression\n",
    "\n",
    "lg = LogisticRegression(random_state=0)\n",
    "lg.fit(x_train_tf, y_train)"
   ]
  },
  {
   "cell_type": "code",
   "execution_count": 160,
   "id": "valuable-firmware",
   "metadata": {},
   "outputs": [],
   "source": [
    "y_train_pred = lg.predict(x_train_tf)\n",
    "y_test_pred = lg.predict(x_test_tf)"
   ]
  },
  {
   "cell_type": "code",
   "execution_count": 161,
   "id": "absolute-farmer",
   "metadata": {},
   "outputs": [],
   "source": [
    "from sklearn.metrics import accuracy_score, classification_report"
   ]
  },
  {
   "cell_type": "code",
   "execution_count": 166,
   "id": "passing-hostel",
   "metadata": {},
   "outputs": [
    {
     "name": "stdout",
     "output_type": "stream",
     "text": [
      "Training Set Accuracy: 95.48 \n",
      "Testing Set Accuracy: 94.89 \n"
     ]
    }
   ],
   "source": [
    "print(\"Training Set Accuracy: %2.2f \" % (accuracy_score(y_train, y_train_pred)*100))\n",
    "print(\"Testing Set Accuracy: %2.2f \" % (accuracy_score(y_test, y_test_pred)*100))"
   ]
  },
  {
   "cell_type": "code",
   "execution_count": 167,
   "id": "sustained-jason",
   "metadata": {},
   "outputs": [
    {
     "name": "stdout",
     "output_type": "stream",
     "text": [
      "              precision    recall  f1-score   support\n",
      "\n",
      "           0       0.95      1.00      0.97      8924\n",
      "           1       0.89      0.30      0.45       665\n",
      "\n",
      "    accuracy                           0.95      9589\n",
      "   macro avg       0.92      0.65      0.71      9589\n",
      "weighted avg       0.95      0.95      0.94      9589\n",
      "\n"
     ]
    }
   ],
   "source": [
    "print(classification_report(y_test, y_test_pred))"
   ]
  },
  {
   "cell_type": "markdown",
   "id": "subtle-insurance",
   "metadata": {},
   "source": [
    "#### F1-Score is low for 1 (hate class), this is due to the classes imbalance "
   ]
  },
  {
   "cell_type": "markdown",
   "id": "applicable-builder",
   "metadata": {},
   "source": [
    "### Adjusted Logistic Regression + resolving class imbalance"
   ]
  },
  {
   "cell_type": "code",
   "execution_count": 170,
   "id": "central-election",
   "metadata": {},
   "outputs": [
    {
     "data": {
      "text/plain": [
       "LogisticRegression(class_weight='balanced', random_state=0)"
      ]
     },
     "execution_count": 170,
     "metadata": {},
     "output_type": "execute_result"
    }
   ],
   "source": [
    "lg2 = LogisticRegression(class_weight = 'balanced', random_state=0)\n",
    "lg2.fit(x_train_tf, y_train)\n"
   ]
  },
  {
   "cell_type": "code",
   "execution_count": 171,
   "id": "entire-committee",
   "metadata": {},
   "outputs": [],
   "source": [
    "y_train_pred = lg2.predict(x_train_tf)\n",
    "y_test_pred = lg2.predict(x_test_tf)"
   ]
  },
  {
   "cell_type": "code",
   "execution_count": 172,
   "id": "tough-davis",
   "metadata": {},
   "outputs": [
    {
     "name": "stdout",
     "output_type": "stream",
     "text": [
      "Adjusted Logistic Regression + resolving class imbalance\n",
      "\n",
      "Training Set Accuracy: 95.33 \n",
      "Testing Set Accuracy: 92.57 \n"
     ]
    }
   ],
   "source": [
    "print(\"Adjusted Logistic Regression + resolving class imbalance\\n\")\n",
    "print(\"Training Set Accuracy: %2.2f \" % (accuracy_score(y_train, y_train_pred)*100))\n",
    "print(\"Testing Set Accuracy: %2.2f \" % (accuracy_score(y_test, y_test_pred)*100))"
   ]
  },
  {
   "cell_type": "code",
   "execution_count": 174,
   "id": "dental-party",
   "metadata": {},
   "outputs": [
    {
     "name": "stdout",
     "output_type": "stream",
     "text": [
      "              precision    recall  f1-score   support\n",
      "\n",
      "           0       1.00      0.95      0.97     20796\n",
      "           1       0.60      0.97      0.75      1577\n",
      "\n",
      "    accuracy                           0.95     22373\n",
      "   macro avg       0.80      0.96      0.86     22373\n",
      "weighted avg       0.97      0.95      0.96     22373\n",
      "\n"
     ]
    }
   ],
   "source": [
    "print(classification_report(y_train, y_train_pred))"
   ]
  },
  {
   "cell_type": "code",
   "execution_count": 173,
   "id": "convertible-investing",
   "metadata": {},
   "outputs": [
    {
     "name": "stdout",
     "output_type": "stream",
     "text": [
      "              precision    recall  f1-score   support\n",
      "\n",
      "           0       0.98      0.94      0.96      8924\n",
      "           1       0.48      0.75      0.58       665\n",
      "\n",
      "    accuracy                           0.93      9589\n",
      "   macro avg       0.73      0.85      0.77      9589\n",
      "weighted avg       0.95      0.93      0.93      9589\n",
      "\n"
     ]
    }
   ],
   "source": [
    "print(classification_report(y_test, y_test_pred))"
   ]
  },
  {
   "cell_type": "markdown",
   "id": "absent-reviewer",
   "metadata": {},
   "source": [
    "#### There's a significant different between the F1-Scores of the train and test datasets, this could imply the represent of overfitting "
   ]
  },
  {
   "cell_type": "markdown",
   "id": "level-instrumentation",
   "metadata": {},
   "source": [
    "### Regularization and Hyperparameter Tuning"
   ]
  },
  {
   "cell_type": "code",
   "execution_count": 210,
   "id": "requested-repeat",
   "metadata": {},
   "outputs": [],
   "source": [
    "from sklearn.model_selection import GridSearchCV, StratifiedKFold, RandomizedSearchCV"
   ]
  },
  {
   "cell_type": "code",
   "execution_count": 188,
   "id": "valid-sweden",
   "metadata": {},
   "outputs": [],
   "source": [
    "param_grid = {\n",
    "    'C': [0.001,0.01,0.1,1,10,100],\n",
    "    'penalty': [\"l1\",\"l2\", \"elasticnet\"]\n",
    "}\n",
    "\n",
    "lg3 = LogisticRegression(class_weight = 'balanced', random_state=0)\n",
    "#lg3.fit(x_train_tf, y_train)"
   ]
  },
  {
   "cell_type": "code",
   "execution_count": 189,
   "id": "humanitarian-survivor",
   "metadata": {},
   "outputs": [],
   "source": [
    "gs = GridSearchCV(estimator = lg3, param_grid = param_grid, \n",
    "                  cv = StratifiedKFold(4), n_jobs = -1, \n",
    "                  verbose = 1, scoring = \"recall\" )"
   ]
  },
  {
   "cell_type": "code",
   "execution_count": 190,
   "id": "caring-record",
   "metadata": {},
   "outputs": [
    {
     "name": "stdout",
     "output_type": "stream",
     "text": [
      "Fitting 4 folds for each of 18 candidates, totalling 72 fits\n"
     ]
    },
    {
     "name": "stderr",
     "output_type": "stream",
     "text": [
      "/opt/anaconda3/lib/python3.7/site-packages/sklearn/model_selection/_search.py:925: UserWarning: One or more of the test scores are non-finite: [       nan 0.66200443        nan        nan 0.70131883        nan\n",
      "        nan 0.76473527        nan        nan 0.77362494        nan\n",
      "        nan 0.73748153        nan        nan 0.69183801        nan]\n",
      "  category=UserWarning\n"
     ]
    },
    {
     "data": {
      "text/plain": [
       "GridSearchCV(cv=StratifiedKFold(n_splits=4, random_state=None, shuffle=False),\n",
       "             estimator=LogisticRegression(class_weight='balanced',\n",
       "                                          random_state=0),\n",
       "             n_jobs=-1,\n",
       "             param_grid={'C': [0.001, 0.01, 0.1, 1, 10, 100],\n",
       "                         'penalty': ['l1', 'l2', 'elasticnet']},\n",
       "             scoring='recall', verbose=1)"
      ]
     },
     "execution_count": 190,
     "metadata": {},
     "output_type": "execute_result"
    }
   ],
   "source": [
    "gs.fit(x_train_tf, y_train)"
   ]
  },
  {
   "cell_type": "code",
   "execution_count": 191,
   "id": "married-torture",
   "metadata": {},
   "outputs": [
    {
     "data": {
      "text/plain": [
       "{'C': 1, 'penalty': 'l2'}"
      ]
     },
     "execution_count": 191,
     "metadata": {},
     "output_type": "execute_result"
    }
   ],
   "source": [
    "gs.best_params_"
   ]
  },
  {
   "cell_type": "code",
   "execution_count": 192,
   "id": "quantitative-times",
   "metadata": {},
   "outputs": [],
   "source": [
    "y_best_pred_train = gs.predict(x_train_tf)\n",
    "y_best_pred_test = gs.predict(x_test_tf)"
   ]
  },
  {
   "cell_type": "code",
   "execution_count": 193,
   "id": "prime-officer",
   "metadata": {},
   "outputs": [
    {
     "name": "stdout",
     "output_type": "stream",
     "text": [
      "              precision    recall  f1-score   support\n",
      "\n",
      "           0       1.00      0.95      0.97     20796\n",
      "           1       0.60      0.97      0.75      1577\n",
      "\n",
      "    accuracy                           0.95     22373\n",
      "   macro avg       0.80      0.96      0.86     22373\n",
      "weighted avg       0.97      0.95      0.96     22373\n",
      "\n"
     ]
    }
   ],
   "source": [
    "print(classification_report(y_train, y_best_pred_train))"
   ]
  },
  {
   "cell_type": "code",
   "execution_count": 194,
   "id": "enabling-youth",
   "metadata": {},
   "outputs": [
    {
     "name": "stdout",
     "output_type": "stream",
     "text": [
      "              precision    recall  f1-score   support\n",
      "\n",
      "           0       0.98      0.94      0.96      8924\n",
      "           1       0.48      0.75      0.58       665\n",
      "\n",
      "    accuracy                           0.93      9589\n",
      "   macro avg       0.73      0.85      0.77      9589\n",
      "weighted avg       0.95      0.93      0.93      9589\n",
      "\n"
     ]
    }
   ],
   "source": [
    "print(classification_report(y_test, y_best_pred_test))"
   ]
  },
  {
   "cell_type": "markdown",
   "id": "listed-stevens",
   "metadata": {},
   "source": [
    "### Random Forest"
   ]
  },
  {
   "cell_type": "code",
   "execution_count": 200,
   "id": "mysterious-stake",
   "metadata": {},
   "outputs": [
    {
     "name": "stdout",
     "output_type": "stream",
     "text": [
      "{'n_estimators': [200, 400, 600, 800, 1000, 1200, 1400, 1600, 1800, 2000], 'max_features': ['auto', 'sqrt'], 'max_depth': [10, 20, 30, 40, 50, 60, 70, 80, 90, 100, 110, None], 'min_samples_split': [2, 5, 10], 'min_samples_leaf': [1, 2, 4], 'bootstrap': [True, False]}\n"
     ]
    }
   ],
   "source": [
    "from sklearn.model_selection import RandomizedSearchCV\n",
    "# Number of trees in random forest\n",
    "n_estimators = [int(x) for x in np.linspace(start = 200, stop = 2000, num = 10)]\n",
    "# Number of features to consider at every split\n",
    "max_features = ['auto', 'sqrt']\n",
    "# Maximum number of levels in tree\n",
    "max_depth = [int(x) for x in np.linspace(10, 110, num = 11)]\n",
    "max_depth.append(None)\n",
    "# Minimum number of samples required to split a node\n",
    "min_samples_split = [2, 5, 10]\n",
    "# Minimum number of samples required at each leaf node\n",
    "min_samples_leaf = [1, 2, 4]\n",
    "# Method of selecting samples for training each tree\n",
    "bootstrap = [True, False]\n",
    "# Create the random grid\n",
    "random_grid = {'n_estimators': n_estimators,\n",
    "               'max_features': max_features,\n",
    "               'max_depth': max_depth,\n",
    "               'min_samples_split': min_samples_split,\n",
    "               'min_samples_leaf': min_samples_leaf,\n",
    "               'bootstrap': bootstrap}\n",
    "\n",
    "\n",
    "print(random_grid)"
   ]
  },
  {
   "cell_type": "code",
   "execution_count": 202,
   "id": "legislative-barrel",
   "metadata": {},
   "outputs": [],
   "source": [
    "from sklearn.ensemble import RandomForestRegressor"
   ]
  },
  {
   "cell_type": "code",
   "execution_count": 211,
   "id": "variable-fortune",
   "metadata": {},
   "outputs": [
    {
     "name": "stdout",
     "output_type": "stream",
     "text": [
      "Fitting 3 folds for each of 100 candidates, totalling 300 fits\n"
     ]
    },
    {
     "data": {
      "text/plain": [
       "RandomizedSearchCV(cv=3, estimator=RandomForestRegressor(), n_iter=100,\n",
       "                   n_jobs=-1,\n",
       "                   param_distributions={'bootstrap': [True, False],\n",
       "                                        'max_depth': [10, 20, 30, 40, 50, 60,\n",
       "                                                      70, 80, 90, 100, 110,\n",
       "                                                      None],\n",
       "                                        'max_features': ['auto', 'sqrt'],\n",
       "                                        'min_samples_leaf': [1, 2, 4],\n",
       "                                        'min_samples_split': [2, 5, 10],\n",
       "                                        'n_estimators': [200, 400, 600, 800,\n",
       "                                                         1000, 1200, 1400, 1600,\n",
       "                                                         1800, 2000]},\n",
       "                   random_state=42, verbose=2)"
      ]
     },
     "execution_count": 211,
     "metadata": {},
     "output_type": "execute_result"
    }
   ],
   "source": [
    "# Use the random grid to search for best hyperparameters\n",
    "# First create the base model to tune\n",
    "rf = RandomForestRegressor()\n",
    "# Random search of parameters, using 3 fold cross validation, \n",
    "# search across 100 different combinations, and use all available cores\n",
    "rf_random = RandomizedSearchCV(estimator = rf, param_distributions = random_grid, \n",
    "                               n_iter = 100, cv = 3, verbose=1, random_state=42, n_jobs = -1)\n",
    "# Fit the random search model\n",
    "rf_random.fit(x_train_tf, y_train)"
   ]
  },
  {
   "cell_type": "code",
   "execution_count": 213,
   "id": "arabic-magnitude",
   "metadata": {},
   "outputs": [
    {
     "data": {
      "text/plain": [
       "{'n_estimators': 1600,\n",
       " 'min_samples_split': 10,\n",
       " 'min_samples_leaf': 1,\n",
       " 'max_features': 'sqrt',\n",
       " 'max_depth': None,\n",
       " 'bootstrap': True}"
      ]
     },
     "execution_count": 213,
     "metadata": {},
     "output_type": "execute_result"
    }
   ],
   "source": [
    "rf_random.best_params_"
   ]
  },
  {
   "cell_type": "code",
   "execution_count": 237,
   "id": "statewide-confusion",
   "metadata": {},
   "outputs": [],
   "source": [
    "y_best_pred_train_rf2 = rf_random.predict(x_train_tf)\n",
    "y_best_pred_test_rf2 = rf_random.predict(x_test_tf)"
   ]
  },
  {
   "cell_type": "code",
   "execution_count": 238,
   "id": "cardiac-huntington",
   "metadata": {},
   "outputs": [
    {
     "data": {
      "text/plain": [
       "array([0.        , 0.07755819, 0.00275387, 0.00306671, 0.00195771,\n",
       "       0.        , 0.00868919, 0.        , 0.        , 0.06561225])"
      ]
     },
     "execution_count": 238,
     "metadata": {},
     "output_type": "execute_result"
    }
   ],
   "source": [
    "y_best_pred_train_rf[:10]"
   ]
  },
  {
   "cell_type": "code",
   "execution_count": 280,
   "id": "naughty-continuity",
   "metadata": {},
   "outputs": [],
   "source": [
    "p_train = [1 if p >= 0.4 else 0 for p in y_best_pred_train_rf2]\n",
    "p_test = [1 if p >= 0.4 else 0 for p in y_best_pred_test_rf2]"
   ]
  },
  {
   "cell_type": "code",
   "execution_count": 281,
   "id": "czech-respect",
   "metadata": {},
   "outputs": [
    {
     "data": {
      "text/plain": [
       "Counter({0: 20827, 1: 1546})"
      ]
     },
     "execution_count": 281,
     "metadata": {},
     "output_type": "execute_result"
    }
   ],
   "source": [
    "con2 = Counter(p_train)\n",
    "con2"
   ]
  },
  {
   "cell_type": "code",
   "execution_count": 282,
   "id": "responsible-audit",
   "metadata": {},
   "outputs": [
    {
     "name": "stdout",
     "output_type": "stream",
     "text": [
      "              precision    recall  f1-score   support\n",
      "\n",
      "           0       1.00      1.00      1.00     20796\n",
      "           1       0.96      0.94      0.95      1577\n",
      "\n",
      "    accuracy                           0.99     22373\n",
      "   macro avg       0.98      0.97      0.97     22373\n",
      "weighted avg       0.99      0.99      0.99     22373\n",
      "\n"
     ]
    }
   ],
   "source": [
    "print(classification_report(y_train, p_train))"
   ]
  },
  {
   "cell_type": "code",
   "execution_count": 283,
   "id": "natural-backup",
   "metadata": {},
   "outputs": [
    {
     "name": "stdout",
     "output_type": "stream",
     "text": [
      "              precision    recall  f1-score   support\n",
      "\n",
      "           0       0.97      0.98      0.98      8924\n",
      "           1       0.70      0.58      0.64       665\n",
      "\n",
      "    accuracy                           0.95      9589\n",
      "   macro avg       0.84      0.78      0.81      9589\n",
      "weighted avg       0.95      0.95      0.95      9589\n",
      "\n"
     ]
    }
   ],
   "source": [
    "print(classification_report(y_test, p_test))"
   ]
  },
  {
   "cell_type": "code",
   "execution_count": 284,
   "id": "covered-tuning",
   "metadata": {},
   "outputs": [
    {
     "name": "stdout",
     "output_type": "stream",
     "text": [
      "Training Set Accuracy: 99.24 \n",
      "Testing Set Accuracy: 95.39 \n"
     ]
    }
   ],
   "source": [
    "print(\"Training Set Accuracy: %2.2f \" % (accuracy_score(y_train, p_train)*100))\n",
    "print(\"Testing Set Accuracy: %2.2f \" % (accuracy_score(y_test, p_test)*100))"
   ]
  },
  {
   "cell_type": "code",
   "execution_count": 289,
   "id": "circular-combination",
   "metadata": {},
   "outputs": [
    {
     "name": "stdout",
     "output_type": "stream",
     "text": [
      "Training Set F1-Score: 99.24 \n",
      "Testing Set F1-Score: 95.19 \n"
     ]
    }
   ],
   "source": [
    "from sklearn.metrics import f1_score\n",
    "print(\"Training Set F1-Score: %2.2f \" % (f1_score(y_train, p_train, average='weighted')*100))\n",
    "print(\"Testing Set F1-Score: %2.2f \" % (f1_score(y_test, p_test, average='weighted')*100))"
   ]
  },
  {
   "cell_type": "markdown",
   "id": "critical-funeral",
   "metadata": {},
   "source": [
    "#### I accidently trained using a Regressor instead of a Classifier. This realization came after 6 hours of Grid Search"
   ]
  },
  {
   "cell_type": "code",
   "execution_count": 224,
   "id": "prospective-password",
   "metadata": {},
   "outputs": [],
   "source": [
    "pare = {'n_estimators': 1600,\n",
    " 'min_samples_split': 10,\n",
    " 'min_samples_leaf': 1,\n",
    " 'max_features': 'sqrt',\n",
    " 'max_depth': None,\n",
    " 'bootstrap': True}"
   ]
  },
  {
   "cell_type": "code",
   "execution_count": 227,
   "id": "single-swedish",
   "metadata": {},
   "outputs": [],
   "source": [
    "?RandomForestClassifier"
   ]
  },
  {
   "cell_type": "code",
   "execution_count": 230,
   "id": "through-tiger",
   "metadata": {},
   "outputs": [
    {
     "data": {
      "text/plain": [
       "RandomForestClassifier(max_features='sqrt', min_samples_split=10,\n",
       "                       n_estimators=1600)"
      ]
     },
     "execution_count": 230,
     "metadata": {},
     "output_type": "execute_result"
    }
   ],
   "source": [
    "from sklearn.ensemble import RandomForestClassifier\n",
    "clf = RandomForestClassifier(n_estimators= 1600, min_samples_split= 10, min_samples_leaf= 1,\n",
    "                             max_features= 'sqrt',max_depth= None, bootstrap= True)\n",
    "\n",
    "clf.fit(x_train_tf, y_train)"
   ]
  },
  {
   "cell_type": "code",
   "execution_count": 296,
   "id": "medieval-pulse",
   "metadata": {},
   "outputs": [],
   "source": [
    "y_best_pred_train_clf = clf.predict(x_train_tf)\n",
    "y_best_pred_test_clf = clf.predict(x_test_tf)"
   ]
  },
  {
   "cell_type": "code",
   "execution_count": 297,
   "id": "declared-protocol",
   "metadata": {},
   "outputs": [
    {
     "name": "stdout",
     "output_type": "stream",
     "text": [
      "              precision    recall  f1-score   support\n",
      "\n",
      "           0       0.99      1.00      0.99     20796\n",
      "           1       0.98      0.86      0.92      1577\n",
      "\n",
      "    accuracy                           0.99     22373\n",
      "   macro avg       0.99      0.93      0.96     22373\n",
      "weighted avg       0.99      0.99      0.99     22373\n",
      "\n"
     ]
    }
   ],
   "source": [
    "print(classification_report(y_train, y_best_pred_train_clf))"
   ]
  },
  {
   "cell_type": "code",
   "execution_count": 298,
   "id": "hidden-diana",
   "metadata": {},
   "outputs": [
    {
     "name": "stdout",
     "output_type": "stream",
     "text": [
      "              precision    recall  f1-score   support\n",
      "\n",
      "           0       0.96      0.99      0.98      8924\n",
      "           1       0.79      0.52      0.62       665\n",
      "\n",
      "    accuracy                           0.96      9589\n",
      "   macro avg       0.88      0.75      0.80      9589\n",
      "weighted avg       0.95      0.96      0.95      9589\n",
      "\n"
     ]
    }
   ],
   "source": [
    "print(classification_report(y_test, y_best_pred_test_clf))"
   ]
  },
  {
   "cell_type": "code",
   "execution_count": 299,
   "id": "located-freedom",
   "metadata": {},
   "outputs": [
    {
     "name": "stdout",
     "output_type": "stream",
     "text": [
      "Training Set Accuracy: 98.90 \n",
      "Testing Set Accuracy: 95.67 \n"
     ]
    }
   ],
   "source": [
    "print(\"Training Set Accuracy: %2.2f \" % (accuracy_score(y_train, y_best_pred_train_clf)*100))\n",
    "print(\"Testing Set Accuracy: %2.2f \" % (accuracy_score(y_test, y_best_pred_test_clf)*100))"
   ]
  },
  {
   "cell_type": "code",
   "execution_count": 300,
   "id": "occupied-vault",
   "metadata": {},
   "outputs": [
    {
     "name": "stdout",
     "output_type": "stream",
     "text": [
      "Training Set F1-Score: 98.87 \n",
      "Testing Set F1-Score: 95.25 \n"
     ]
    }
   ],
   "source": [
    "from sklearn.metrics import f1_score\n",
    "print(\"Training Set F1-Score: %2.2f \" % (f1_score(y_train, y_best_pred_train_rf2, average='weighted')*100))\n",
    "print(\"Testing Set F1-Score: %2.2f \" % (f1_score(y_test, y_best_pred_test_rf2, average='weighted')*100))"
   ]
  }
 ],
 "metadata": {
  "kernelspec": {
   "display_name": "Python 3",
   "language": "python",
   "name": "python3"
  },
  "language_info": {
   "codemirror_mode": {
    "name": "ipython",
    "version": 3
   },
   "file_extension": ".py",
   "mimetype": "text/x-python",
   "name": "python",
   "nbconvert_exporter": "python",
   "pygments_lexer": "ipython3",
   "version": "3.7.9"
  }
 },
 "nbformat": 4,
 "nbformat_minor": 5
}
